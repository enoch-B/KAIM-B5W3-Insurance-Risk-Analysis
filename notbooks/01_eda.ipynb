{
 "cells": [
  {
   "cell_type": "code",
   "execution_count": null,
   "id": "995d7373",
   "metadata": {},
   "outputs": [],
   "source": [
    "# notebooks/01_eda.ipynb\n",
    "\n",
    "# Imports\n",
    "import pandas as pd\n",
    "import matplotlib.pyplot as plt\n",
    "import seaborn as sns\n",
    "import os\n",
    "\n",
    "# Load Data\n",
    "DATA_PATH = \"../data/raw/MachineLearningRating_v3.txt\"\n",
    "df = pd.read_csv(DATA_PATH, sep=\"|\")\n",
    "\n",
    "# Initial overview\n",
    "print(\"Shape:\", df.shape)\n",
    "print(df.head())\n",
    "\n",
    "\n"
   ]
  },
  {
   "cell_type": "code",
   "execution_count": null,
   "id": "81fdd833",
   "metadata": {},
   "outputs": [],
   "source": [
    "# Missing values check\n",
    "missing_summary = df.isnull().sum().sort_values(ascending=False)\n",
    "missing_df = pd.DataFrame({\n",
    "    \"Missing Count\": missing_summary,\n",
    "    \"Missing %\": (missing_summary / len(df)) * 100\n",
    "})\n",
    "print(missing_df[missing_df[\"Missing Count\"] > 0])"
   ]
  },
  {
   "cell_type": "code",
   "execution_count": null,
   "id": "dbaa58bb",
   "metadata": {},
   "outputs": [],
   "source": [
    "# Descriptive stats\n",
    "print(df.describe().T)\n",
    "\n",
    "# Categorical variable uniqueness\n",
    "cat_uniques = df.select_dtypes(include=[\"object\"]).nunique().sort_values(ascending=False)\n",
    "print(cat_uniques)"
   ]
  },
  {
   "cell_type": "code",
   "execution_count": null,
   "id": "0e3a3961",
   "metadata": {},
   "outputs": [],
   "source": [
    "# Visual: TotalPremium distribution\n",
    "plt.figure(figsize=(10, 4))\n",
    "sns.histplot(df['TotalPremium'], bins=50, kde=True)\n",
    "plt.title('Distribution of Total Premium')\n",
    "os.makedirs(\"../reports/figures\", exist_ok=True)\n",
    "plt.savefig(\"../reports/figures/premium_distribution.png\")\n",
    "plt.show()"
   ]
  },
  {
   "cell_type": "code",
   "execution_count": null,
   "id": "a77c7f5c",
   "metadata": {},
   "outputs": [],
   "source": [
    "# Visual: TotalClaims distribution\n",
    "plt.figure(figsize=(10, 4))\n",
    "sns.histplot(df['TotalClaims'], bins=50, kde=True, color='r')\n",
    "plt.title('Distribution of Total Claims')\n",
    "plt.savefig(\"../reports/figures/claims_distribution.png\")\n",
    "plt.show()"
   ]
  },
  {
   "cell_type": "code",
   "execution_count": null,
   "id": "e257d577",
   "metadata": {},
   "outputs": [],
   "source": [
    "# Countplot: Province\n",
    "plt.figure(figsize=(10, 4))\n",
    "sns.countplot(data=df, x='Province', order=df['Province'].value_counts().index)\n",
    "plt.xticks(rotation=45)\n",
    "plt.title(\"Policies by Province\")\n",
    "plt.savefig(\"../reports/figures/province_distribution.png\")\n",
    "plt.show()"
   ]
  },
  {
   "cell_type": "code",
   "execution_count": null,
   "id": "0ce43d23",
   "metadata": {},
   "outputs": [],
   "source": [
    "# Loss Ratio analysis\n",
    "df[\"LossRatio\"] = df[\"TotalClaims\"] / df[\"TotalPremium\"]\n",
    "province_loss = df.groupby(\"Province\")[\"LossRatio\"].mean().sort_values(ascending=False)\n",
    "\n",
    "plt.figure(figsize=(10, 4))\n",
    "province_loss.plot(kind=\"bar\", color=\"orange\")\n",
    "plt.title(\"Average Loss Ratio by Province\")\n",
    "plt.ylabel(\"Loss Ratio\")\n",
    "plt.xticks(rotation=45)\n",
    "plt.savefig(\"../reports/figures/province_loss_ratio.png\")\n",
    "plt.show()"
   ]
  },
  {
   "cell_type": "code",
   "execution_count": null,
   "id": "3551012d",
   "metadata": {},
   "outputs": [],
   "source": [
    "# Correlation heatmap\n",
    "plt.figure(figsize=(12, 8))\n",
    "sns.heatmap(df.corr(numeric_only=True), annot=True, fmt=\".2f\", cmap=\"coolwarm\")\n",
    "plt.title(\"Correlation Matrix\")\n",
    "plt.savefig(\"../reports/figures/correlation_matrix.png\")\n",
    "plt.show()"
   ]
  }
 ],
 "metadata": {
  "kernelspec": {
   "display_name": ".venv",
   "language": "python",
   "name": "python3"
  },
  "language_info": {
   "name": "python",
   "version": "3.13.4"
  }
 },
 "nbformat": 4,
 "nbformat_minor": 5
}
