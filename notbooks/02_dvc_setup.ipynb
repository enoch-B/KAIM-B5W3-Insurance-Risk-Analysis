{
 "cells": [
  {
   "cell_type": "code",
   "execution_count": null,
   "id": "d6fcc972",
   "metadata": {},
   "outputs": [],
   "source": [
    "# Cell 1 - Introduction\n",
    "\"\"\"\n",
    "# Task 2: DVC Setup\n",
    "\n",
    "This notebook walks through the setup of **Data Version Control (DVC)** to track the raw dataset for the insurance risk analytics project.\n",
    "\"\"\"\n",
    "\n",
    "# Cell 2 - Initialize DVC (run this in terminal)\n",
    "\"\"\"\n",
    "!dvc init\n",
    "\"\"\"\n",
    "\n",
    "# Cell 3 - Add raw data to DVC tracking\n",
    "\"\"\"\n",
    "!dvc add ../data/raw/MachineLearningRating_v3.csv\n",
    "\"\"\"\n",
    "\n",
    "# Cell 4 - DVC creates the following files:\n",
    "\"\"\"\n",
    "- data/raw/MachineLearningRating_v3.csv.dvc\n",
    "- .gitignore entry for MachineLearningRating_v3.csv\n",
    "\"\"\"\n",
    "\n",
    "# Cell 5 - Configure optional local DVC remote (run in terminal if needed)\n",
    "\"\"\"\n",
    "!dvc remote add -d local_storage ../dvc_storage\n",
    "!dvc remote modify local_storage type local\n",
    "\"\"\"\n",
    "\n",
    "# Cell 6 - Git commit\n",
    "\"\"\"\n",
    "Once DVC tracking is complete, commit the changes:\n",
    "!git add .gitignore .dvc config ../data/raw/*.dvc\n",
    "!git commit -m \"Initialize DVC and track raw dataset\"\n",
    "!git push origin task-2\n",
    "\"\"\"\n",
    "\n",
    "# Cell 7 - Verify the status\n",
    "\"\"\"\n",
    "!dvc status\n",
    "\"\"\"\n"
   ]
  }
 ],
 "metadata": {
  "language_info": {
   "name": "python"
  }
 },
 "nbformat": 4,
 "nbformat_minor": 5
}
